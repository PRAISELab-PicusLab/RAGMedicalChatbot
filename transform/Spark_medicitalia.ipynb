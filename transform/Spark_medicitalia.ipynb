{
 "cells": [
  {
   "cell_type": "markdown",
   "metadata": {},
   "source": [
    "## Import"
   ]
  },
  {
   "cell_type": "code",
   "execution_count": 1,
   "metadata": {},
   "outputs": [
    {
     "name": "stderr",
     "output_type": "stream",
     "text": [
      "c:\\Users\\39392\\anaconda3\\envs\\spark_env\\lib\\site-packages\\sentence_transformers\\cross_encoder\\CrossEncoder.py:11: TqdmWarning: IProgress not found. Please update jupyter and ipywidgets. See https://ipywidgets.readthedocs.io/en/stable/user_install.html\n",
      "  from tqdm.autonotebook import tqdm, trange\n"
     ]
    }
   ],
   "source": [
    "import findspark\n",
    "findspark.init()\n",
    "from pyspark.context import SparkContext, SparkConf\n",
    "from pyspark.sql.functions import *\n",
    "from pyspark.sql.types import IntegerType, ArrayType, StringType, ShortType, FloatType\n",
    "from pyspark.sql import SparkSession\n",
    "from spark_functions import *\n",
    "from datetime import datetime"
   ]
  },
  {
   "cell_type": "code",
   "execution_count": 2,
   "metadata": {},
   "outputs": [],
   "source": [
    "sc = SparkContext().getOrCreate()"
   ]
  },
  {
   "cell_type": "code",
   "execution_count": 3,
   "metadata": {},
   "outputs": [
    {
     "name": "stdout",
     "output_type": "stream",
     "text": [
      "<pyspark.sql.session.SparkSession object at 0x000001C360F0EFE0>\n"
     ]
    }
   ],
   "source": [
    "spark = SparkSession(sc).builder \\\n",
    "    .appName(\"medicitalia\") \\\n",
    "    .getOrCreate()\n",
    "    #.master(\"local[1]\") \\\n",
    "print(spark)"
   ]
  },
  {
   "cell_type": "markdown",
   "metadata": {},
   "source": [
    "## UDFS"
   ]
  },
  {
   "cell_type": "code",
   "execution_count": 4,
   "metadata": {},
   "outputs": [],
   "source": [
    "#imported from spark_functions.py\n",
    "chunking_udf = udf(lambda x: chunking(x, 300), ArrayType(StringType()))\n",
    "embeddings_udf = udf(lambda x: embed(x), ArrayType(FloatType()))\n",
    "locations_udf = udf(lambda x: get_coordinates(x, \"IT\"), ArrayType(FloatType()))\n",
    "\n",
    "convert_to_iso_udf = udf(lambda x: convert_to_iso(x), StringType()) "
   ]
  },
  {
   "cell_type": "markdown",
   "metadata": {},
   "source": [
    "## Funzioni"
   ]
  },
  {
   "cell_type": "code",
   "execution_count": 6,
   "metadata": {},
   "outputs": [],
   "source": [
    "def split_dataframe(df):\n",
    "    df_rag = df.select(['URL', 'Category', 'Question' , 'Answer'])\n",
    "    df_analytics = df.select(['URL','Category', 'Answer Date', 'Question Date'])\n",
    "\n",
    "    return df_rag, df_analytics\n",
    "\n",
    "def convert_to_iso(data):\n",
    "    try:\n",
    "        date_obj = datetime.strptime(data, '%d.%m.%Y %H:%M')\n",
    "        # Convert the datetime object to ISO 8601 format\n",
    "        iso_date_str = date_obj.strftime('%Y-%m-%dT%H:%M:%SZ')\n",
    "        return iso_date_str\n",
    "    except:\n",
    "        pass\n",
    "    try:\n",
    "        parsed_date = datetime.strptime(data, '%d.%m.%y')\n",
    "        # Convert to ISODate format\n",
    "        iso_date_str = parsed_date.isoformat() + 'Z'\n",
    "        return iso_date_str\n",
    "    except:\n",
    "        return \"0000-00-00T00:00:00Z\""
   ]
  },
  {
   "cell_type": "markdown",
   "metadata": {},
   "source": [
    "## Transformations generali"
   ]
  },
  {
   "cell_type": "code",
   "execution_count": 7,
   "metadata": {},
   "outputs": [
    {
     "name": "stdout",
     "output_type": "stream",
     "text": [
      "../medicitalia/data loaded\n",
      "root\n",
      " |-- URL: string (nullable = true)\n",
      " |-- Category: string (nullable = true)\n",
      " |-- Question: string (nullable = true)\n",
      " |-- Answer: string (nullable = true)\n",
      " |-- Question Date: string (nullable = true)\n",
      " |-- Answer Date: string (nullable = true)\n",
      "\n"
     ]
    }
   ],
   "source": [
    "medicitalia_df = load_dataframe(spark, '../medicitalia/data')\n",
    "medicitalia_df = medicitalia_df.dropDuplicates(['URL'])\n",
    "medicitalia_df = medicitalia_df.dropDuplicates(['Question'])"
   ]
  },
  {
   "cell_type": "markdown",
   "metadata": {},
   "source": [
    "## Splitting"
   ]
  },
  {
   "cell_type": "code",
   "execution_count": 8,
   "metadata": {},
   "outputs": [],
   "source": [
    "#splitta le informazioni per ogni database\n",
    "df_rag, df_analytics = split_dataframe(medicitalia_df)"
   ]
  },
  {
   "cell_type": "markdown",
   "metadata": {},
   "source": [
    "## Transformations di df_rag"
   ]
  },
  {
   "cell_type": "code",
   "execution_count": 8,
   "metadata": {},
   "outputs": [],
   "source": [
    "df_rag = df_rag.where((length(col('Question')) > 30) & (length(col('Answer')) > 30))\n",
    "df_rag = df_rag.na.drop(how='any', subset=['Question', 'Answer'])"
   ]
  },
  {
   "cell_type": "code",
   "execution_count": 9,
   "metadata": {},
   "outputs": [],
   "source": [
    "df_rag = df_rag.withColumn('Question', chunking_udf(df_rag['Question']))\n",
    "df_rag = df_rag.select('*', posexplode('Question').alias('Chunk_number', 'Chunked_Question'))\n",
    "df_rag = df_rag.drop('Question')\n",
    "df_rag = df_rag.withColumnRenamed('Chunked_Question', 'Question')\n",
    "#df_rag = df_rag.withColumn('embeddings', embeddings_udf(df_rag['Question']))"
   ]
  },
  {
   "cell_type": "markdown",
   "metadata": {},
   "source": [
    "## Transformations di df_analytics"
   ]
  },
  {
   "cell_type": "code",
   "execution_count": 9,
   "metadata": {},
   "outputs": [],
   "source": [
    "df_analytics = df_analytics.na.drop(how='any', subset=['Category'])\n",
    "df_analytics = df_analytics.withColumn('Question Date', convert_to_iso_udf(df_analytics['Question Date']))\n",
    "df_analytics = df_analytics.withColumn('Answer Date', convert_to_iso_udf(df_analytics['Answer Date']))"
   ]
  },
  {
   "cell_type": "markdown",
   "metadata": {},
   "source": [
    "## Salvataggio"
   ]
  },
  {
   "cell_type": "code",
   "execution_count": 11,
   "metadata": {},
   "outputs": [],
   "source": [
    "df_rag.write.json('../medicitalia/json_medicitalia/rag', mode=\"overwrite\")\n",
    "df_analytics.write.json('../medicitalia/json_medicitalia/analytics', mode=\"overwrite\")"
   ]
  }
 ],
 "metadata": {
  "kernelspec": {
   "display_name": "spark_env",
   "language": "python",
   "name": "python3"
  },
  "language_info": {
   "codemirror_mode": {
    "name": "ipython",
    "version": 3
   },
   "file_extension": ".py",
   "mimetype": "text/x-python",
   "name": "python",
   "nbconvert_exporter": "python",
   "pygments_lexer": "ipython3",
   "version": "3.10.14"
  }
 },
 "nbformat": 4,
 "nbformat_minor": 2
}
