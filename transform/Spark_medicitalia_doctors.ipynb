{
 "cells": [
  {
   "cell_type": "code",
   "execution_count": 1,
   "metadata": {},
   "outputs": [
    {
     "name": "stderr",
     "output_type": "stream",
     "text": [
      "c:\\Users\\39392\\anaconda3\\envs\\spark_env\\lib\\site-packages\\sentence_transformers\\cross_encoder\\CrossEncoder.py:11: TqdmWarning: IProgress not found. Please update jupyter and ipywidgets. See https://ipywidgets.readthedocs.io/en/stable/user_install.html\n",
      "  from tqdm.autonotebook import tqdm, trange\n"
     ]
    }
   ],
   "source": [
    "import findspark\n",
    "findspark.init()\n",
    "from pyspark.context import SparkContext, SparkConf\n",
    "from pyspark.sql.functions import *\n",
    "from pyspark.sql.types import IntegerType, ArrayType, StringType, ShortType, FloatType\n",
    "from pyspark.sql import SparkSession\n",
    "from spark_functions import *"
   ]
  },
  {
   "cell_type": "code",
   "execution_count": 2,
   "metadata": {},
   "outputs": [],
   "source": [
    "sc = SparkContext().getOrCreate()"
   ]
  },
  {
   "cell_type": "code",
   "execution_count": 3,
   "metadata": {},
   "outputs": [
    {
     "name": "stdout",
     "output_type": "stream",
     "text": [
      "<pyspark.sql.session.SparkSession object at 0x0000015ED0F966B0>\n"
     ]
    }
   ],
   "source": [
    "spark = SparkSession(sc).builder \\\n",
    "    .appName(\"medicitalia_doctors\") \\\n",
    "    .getOrCreate()\n",
    "    #.master(\"local[1]\") \\\n",
    "print(spark)"
   ]
  },
  {
   "cell_type": "code",
   "execution_count": 4,
   "metadata": {},
   "outputs": [],
   "source": [
    "category_mapping = {\n",
    "    \"Scienza dell'alimentazione\": \"Scienza dell'alimentazione\",\n",
    "    \"Igiene e medicina preventiva\": \"Igiene e medicina preventiva\",\n",
    "    \"Chirurgia maxillo-facciale\": \"Chirurgia maxillo-facciale\",\n",
    "    \"Medicina fisica e riabilitativa\": \"Medicina fisica e riabilitativa\",\n",
    "    \"Oculistica\": \"Oftalmologia\",\n",
    "    \"Cardiologia\": \"Cardiologia\",\n",
    "    \"Andrologia\": \"Andrologia\",\n",
    "    \"Neuroradiologia\": \"Neuroradiologia\",\n",
    "    \"Chirurgia dell'apparato digerente\": \"Chirurgia dell'apparato digerente\",\n",
    "    \"Chirurgia pediatrica\": \"Chirurgia pediatrica\",\n",
    "    \"Microbiologia e virologia\": \"Microbiologia e virologia\",\n",
    "    \"Geriatria\": \"Geriatria\",\n",
    "    \"Diabetologia e malattie del metabolismo\": \"Diabetologia e malattie del metabolismo\",\n",
    "    \"Medicina legale e delle assicurazioni\": \"Medicina legale e delle assicurazioni\",\n",
    "    \"Tossicologia Medica\": \"Tossicologia Medica\",\n",
    "    \"Oncologia medica\": \"Oncologia medica\",\n",
    "    \"Odontoiatria e odontostomatologia\": \"Odontoiatria e odontostomatologia\",\n",
    "    \"Endocrinologia\": \"Endocrinologia\",\n",
    "    \"Ortodonzia\": \"Ortodonzia\",\n",
    "    \"Urologia\": \"Urologia\",\n",
    "    \"Ortopedia\": \"Ortopedia\",\n",
    "    \"Otorinolaringoiatria\": \"Otorinolaringoiatria\",\n",
    "    \"Chirurgia della mano\": \"Chirurgia della mano\",\n",
    "    \"Medicina generale\": \"Medicina generale\",\n",
    "    \"Pediatria\": \"Pediatria\",\n",
    "    \"Medicine non convenzionali\": \"Medicine non convenzionali\",\n",
    "    \"Senologia\": \"Senologia\",\n",
    "    \"Cure palliative\": \"Cure palliative\",\n",
    "    \"Neurofisiopatologia\": \"Neurofisiopatologia\",\n",
    "    \"Psicologia Clinica\": \"Psicologia Clinica\",\n",
    "    \"Chirurgia di urgenza e Pronto Soccorso\": \"Chirurgia di urgenza e Pronto Soccorso\",\n",
    "    \"Ematologia\": \"Ematologia\",\n",
    "    \"Neurochirurgia\": \"Neurochirurgia\",\n",
    "    \"Audiologia e foniatria\": \"Audiologia e foniatria\",\n",
    "    \"Radiologia\": \"Radiologia\",\n",
    "    \"Nefrologia\": \"Nefrologia\",\n",
    "    \"Medicina di base\": \"Medicina di base\",\n",
    "    \"Psicoterapia\": \"Psicoterapia\",\n",
    "    \"Pneumologia\": \"Pneumologia\",\n",
    "    \"Medicina dello sport\": \"Medicina dello sport\",\n",
    "    \"Psicologia\": \"Psicologia\",\n",
    "    \"Biochimica clinica\": \"Biochimica clinica\",\n",
    "    \"Patologia della riproduzione umana\": \"Patologia della riproduzione umana\",\n",
    "    \"Chirurgia vascolare e angiologia\": \"Chirurgia vascolare e angiologia\",\n",
    "    \"Allergologia e immunologia\": \"Allergologia e immunologia\",\n",
    "    \"Medicina di laboratorio\": \"Medicina di laboratorio\",\n",
    "    \"Angiologia\": \"Chirurgia vascolare e angiologia\",\n",
    "    \"Medicina estetica\": \"Medicina estetica\",\n",
    "    \"Cardiologia interventistica\": \"Cardiologia interventistica\",\n",
    "    \"Genetica medica\": \"Genetica medica\",\n",
    "    \"Endocrinochirurgia\": \"Endocrinochirurgia\",\n",
    "    \"Sessuologia\": \"Sessuologia\",\n",
    "    \"Chirurgia toracica\": \"Chirurgia toracica\",\n",
    "    \"Chirurgia plastica e ricostruttiva\": \"Chirurgia plastica e ricostruttiva\",\n",
    "    \"Malattie infettive\": \"Malattie infettive\",\n",
    "    \"Psichiatria\": \"Psichiatria\",\n",
    "    \"Reumatologia\": \"Reumatologia\",\n",
    "    \"Medicina del lavoro\": \"Medicina del lavoro\",\n",
    "    \"Radiologia interventistica\": \"Radiologia interventistica\",\n",
    "    \"Medicina termale\": \"Medicina termale\",\n",
    "    \"Chirurgia generale\": \"Chirurgia generale\",\n",
    "    \"Chirurgia oncologica\": \"Chirurgia oncologica\",\n",
    "    \"Medicina nucleare\": \"Medicina nucleare\",\n",
    "    \"Neuropsichiatria infantile\": \"Neuropsichiatria infantile\",\n",
    "    \"Medicina trasfusionale\": \"Medicina trasfusionale\",\n",
    "    \"Anestesia e rianimazione\": \"Anestesia e rianimazione\",\n",
    "    \"Dermatologia e venereologia\": \"Dermatologia e venereologia\",\n",
    "    \"Neurologia\": \"Neurologia\",\n",
    "    \"Medicina interna\": \"Medicina interna\",\n",
    "    \"Colonproctologia\": \"Colonproctologia\",\n",
    "    \"Pediatria (Pediatri di libera scelta)\": \"Pediatria\",\n",
    "    \"Gastroenterologia e endoscopia digestiva\": \"Gastroenterologia e endoscopia digestiva\",\n",
    "    \"Terapia del dolore\": \"Terapia del dolore\",\n",
    "    \"Medicina del nuoto e attività subacquee\": \"Medicina del nuoto e attività subacquee\",\n",
    "    \"Chirurgia odontostomatologica\": \"Chirurgia odontostomatologica\",\n",
    "    \"Farmacologia\": \"Farmacologia\",\n",
    "    \"Cardiochirurgia\": \"Cardiochirurgia\",\n",
    "    \"Radioterapia\": \"Radioterapia\",\n",
    "    \"Gnatologia clinica\": \"Gnatologia clinica\",\n",
    "    \"Medicina aeronautica e spaziale\": \"Medicina aeronautica e spaziale\",\n",
    "    \"Patologia clinica\": \"Patologia clinica\",\n",
    "    \"Medicina manuale osteopatica\": \"Medicina manuale osteopatica\",\n",
    "    \"Ginecologia e ostetricia\": \"Ginecologia e ostetricia\",\n",
    "    \"Anatomia patologica\": \"Anatomia patologica\"\n",
    "}\n",
    "\n",
    "mapping_udf = udf(lambda x: map_category(x, category_mapping), StringType())\n",
    "locations_udf = udf(lambda x: get_coordinates(x, \"IT\"), ArrayType(FloatType()))"
   ]
  },
  {
   "cell_type": "code",
   "execution_count": 5,
   "metadata": {},
   "outputs": [
    {
     "name": "stdout",
     "output_type": "stream",
     "text": [
      "../medicitalia_doctors/data loaded\n",
      "root\n",
      " |-- URL: string (nullable = true)\n",
      " |-- name: string (nullable = true)\n",
      " |-- specialization: string (nullable = true)\n",
      " |-- location: string (nullable = true)\n",
      " |-- ranking: double (nullable = true)\n",
      " |-- n_replies: double (nullable = true)\n",
      " |-- n_likes: double (nullable = true)\n",
      " |-- picture: string (nullable = true)\n",
      "\n"
     ]
    }
   ],
   "source": [
    "medicitalia_doctors_df = load_dataframe(spark, '../medicitalia_doctors/data')\n",
    "medicitalia_doctors_df = medicitalia_doctors_df.drop_duplicates(['URL'])\n",
    "medicitalia_doctors_df = medicitalia_doctors_df.na.drop(how='any', subset=['name', 'specialization'])\n",
    "medicitalia_doctors_df = medicitalia_doctors_df.withColumn('specialization', mapping_udf(medicitalia_doctors_df['specialization']))\n",
    "medicitalia_doctors_df = medicitalia_doctors_df.where(~col('specialization').contains('MISSING'))\n",
    "#replace default image with null\n",
    "default_pictures = medicitalia_doctors_df.groupBy('picture').count().where(col('count')>1).collect()\n",
    "for dp in default_pictures:\n",
    "    medicitalia_doctors_df = medicitalia_doctors_df.replace(dp['picture'], None, ['picture'])\n",
    "#get location coordinates\n",
    "medicitalia_doctors_df = medicitalia_doctors_df.groupby(lower(col('location')).alias('location')).agg(collect_list(struct(col('URL'), col('name'), col('specialization'), col('ranking'), col('n_replies'), col('n_likes'), col('picture'))).alias('aggregate'))\n",
    "medicitalia_doctors_df = medicitalia_doctors_df.withColumn('coordinates', locations_udf(medicitalia_doctors_df['location']))\n",
    "medicitalia_doctors_df = medicitalia_doctors_df.select('location', 'coordinates', explode('aggregate').alias(\"aggregate\"))\n",
    "medicitalia_doctors_df = medicitalia_doctors_df.select('location', 'coordinates', col('aggregate.URL'), col('aggregate.name'), col('aggregate.specialization'), col('aggregate.ranking'), col('aggregate.n_replies'), col('aggregate.n_likes'), col('aggregate.picture'))\n"
   ]
  },
  {
   "cell_type": "code",
   "execution_count": null,
   "metadata": {},
   "outputs": [],
   "source": [
    "medicitalia_doctors_df.write.json('../medicitalia_doctors/json_medicitalia_doctors/doctors', mode=\"overwrite\")"
   ]
  }
 ],
 "metadata": {
  "kernelspec": {
   "display_name": "spark_env",
   "language": "python",
   "name": "python3"
  },
  "language_info": {
   "codemirror_mode": {
    "name": "ipython",
    "version": 3
   },
   "file_extension": ".py",
   "mimetype": "text/x-python",
   "name": "python",
   "nbconvert_exporter": "python",
   "pygments_lexer": "ipython3",
   "version": "3.10.14"
  }
 },
 "nbformat": 4,
 "nbformat_minor": 2
}
