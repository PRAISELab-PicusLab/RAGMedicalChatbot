{
 "cells": [
  {
   "cell_type": "markdown",
   "metadata": {},
   "source": [
    "## Imports"
   ]
  },
  {
   "cell_type": "code",
   "execution_count": 1,
   "metadata": {},
   "outputs": [
    {
     "name": "stderr",
     "output_type": "stream",
     "text": [
      "c:\\Users\\39392\\anaconda3\\envs\\spark_env\\lib\\site-packages\\sentence_transformers\\cross_encoder\\CrossEncoder.py:11: TqdmWarning: IProgress not found. Please update jupyter and ipywidgets. See https://ipywidgets.readthedocs.io/en/stable/user_install.html\n",
      "  from tqdm.autonotebook import tqdm, trange\n"
     ]
    }
   ],
   "source": [
    "import findspark\n",
    "findspark.init()\n",
    "from pyspark.context import SparkContext, SparkConf\n",
    "from pyspark.sql.functions import *\n",
    "from pyspark.sql.types import IntegerType, ArrayType, StringType, ShortType, FloatType\n",
    "from pyspark.sql import SparkSession\n",
    "from spark_functions import *\n"
   ]
  },
  {
   "cell_type": "code",
   "execution_count": 2,
   "metadata": {},
   "outputs": [],
   "source": [
    "sc = SparkContext().getOrCreate()"
   ]
  },
  {
   "cell_type": "code",
   "execution_count": 3,
   "metadata": {},
   "outputs": [
    {
     "name": "stdout",
     "output_type": "stream",
     "text": [
      "<pyspark.sql.session.SparkSession object at 0x0000022B9F56DC00>\n"
     ]
    }
   ],
   "source": [
    "spark = SparkSession(sc).builder \\\n",
    "    .appName(\"dica33_doctors\") \\\n",
    "    .getOrCreate()\n",
    "    #.master(\"local[1]\") \\\n",
    "print(spark)"
   ]
  },
  {
   "cell_type": "markdown",
   "metadata": {},
   "source": [
    "## Mapping"
   ]
  },
  {
   "cell_type": "code",
   "execution_count": 4,
   "metadata": {},
   "outputs": [],
   "source": [
    "category_mapping = {\n",
    "    'Allergologia e immunologia clinica': 'Allergologia e immunologia',\n",
    "    'Anatomia patologica': 'Anatomia patologica',\n",
    "    'Andrologia': 'Andrologia',\n",
    "    'Anestesia e rianimazione': 'Anestesia e rianimazione',\n",
    "    'Audiologia e Foniatria': 'Audiologia e foniatria',\n",
    "    'Biochimica clinica': 'Biochimica clinica',\n",
    "    'Biometria e statistica medica': 'Biometria e statistica medica',\n",
    "    'Cardiochirurgia': 'Cardiochirurgia',\n",
    "    'Cardiologia': 'Cardiologia',\n",
    "    'Chirurgia apparato digerente': \"Chirurgia dell'apparato digerente\",\n",
    "    \"Chirurgia d'urgenza\": 'Chirurgia di urgenza e Pronto Soccorso',\n",
    "    'Chirurgia generale': 'Chirurgia generale',\n",
    "    'Chirurgia maxillo facciale': 'Chirurgia maxillo-facciale',\n",
    "    'Chirurgia pediatrica': 'Chirurgia pediatrica',\n",
    "    'Chirurgia plastica ricostruttiva': 'Chirurgia plastica e ricostruttiva',\n",
    "    'Chirurgia toracica': 'Chirurgia toracica',\n",
    "    'Chirurgia vascolare, angiologia': 'Chirurgia vascolare e angiologia',\n",
    "    'Dermatologia e venereologia': 'Dermatologia e venereologia',\n",
    "    'Ematologia': 'Ematologia',\n",
    "    'Endocrinologia, Diabetologia e malattie del ricambio': 'Diabetologia e malattie del metabolismo',\n",
    "    'Epidemiologia': 'Epidemiologia',\n",
    "    'Farmacologia': 'Farmacologia',\n",
    "    'Fisiatria': 'Fisiatria',\n",
    "    'Fisiologia': 'Fisiologia',\n",
    "    'Gastroenterologia': 'Gastroenterologia e endoscopia digestiva',\n",
    "    'Genetica medica': 'Genetica medica',\n",
    "    'Geriatria': 'Geriatria',\n",
    "    'Ginecologia e ostetricia': 'Ginecologia e ostetricia',\n",
    "    'Idrologia medica': 'Idrologia medica',\n",
    "    'Igiene e medicina preventiva': 'Igiene e medicina preventiva',\n",
    "    'Malattie apparato respiratorio': 'Pneumologia',\n",
    "    'Malattie del fegato e del ricambio': 'Diabetologia e malattie del metabolismo',\n",
    "    'Malattie infettive': 'Malattie infettive',\n",
    "    'Medicina aeronautica e spaziale': 'Medicina aeronautica e spaziale',\n",
    "    'Medicina alternativa (omeopatia,agopuntura...)': 'Medicina alternativa',\n",
    "    \"Medicina d'emergenza-urgenza\": \"Medicina d'urgenza\",\n",
    "    'Medicina del lavoro': 'Medicina del lavoro',\n",
    "    'Medicina dello sport': 'Medicina dello sport',\n",
    "    'Medicina estetica': 'Medicina estetica',\n",
    "    'Medicina fisica e riabilitazione': 'Medicina fisica e riabilitativa',\n",
    "    'Medicina generale': 'Medicina generale',\n",
    "    'Medicina interna': 'Medicina interna',\n",
    "    'Medicina laboratoristica': 'Medicina di laboratorio',\n",
    "    'Medicina legale': 'Medicina legale e delle assicurazioni',\n",
    "    'Medicina nucleare': 'Medicina nucleare',\n",
    "    'Medicina tropicale': 'Medicina tropicale',\n",
    "    'Microbiologia e virologia': 'Microbiologia e virologia',\n",
    "    'Nefrologia': 'Nefrologia',\n",
    "    'Neurochirurgia': 'Neurochirurgia',\n",
    "    'Neurofisiopatologia': 'Neurofisiopatologia',\n",
    "    'Neurologia': 'Neurologia',\n",
    "    'Neuropsichiatria infantile': 'Neuropsichiatria infantile',\n",
    "    'Odontoiatria': 'Odontoiatria e odontostomatologia',\n",
    "    'Oftalmologia': 'Oftalmologia',\n",
    "    'Oncologia': 'Oncologia medica',\n",
    "    'Ortopedia e traumatologia': 'Ortopedia',\n",
    "    'Otorinolaringoiatria': 'Otorinolaringoiatria',\n",
    "    'Patologia clinica': 'Patologia clinica',\n",
    "    'Pediatria': 'Pediatria',\n",
    "    'Psichiatria': 'Psichiatria',\n",
    "    'Psicologia': 'Psicologia',\n",
    "    'Psicologia clinica': 'Psicologia Clinica',\n",
    "    'Radiodiagnostica': 'Radiologia',\n",
    "    'Radioterapia': 'Radioterapia',\n",
    "    'Reumatologia': 'Reumatologia',\n",
    "    \"Scienza dell'alimentazione\": \"Scienza dell'alimentazione\",\n",
    "    'Stomatologia': 'Stomatologia',\n",
    "    'Tossicologia medica': 'Tossicologia Medica',\n",
    "    'Urologia': 'Urologia',\n",
    "    'Valutazione psicologica e consulenza (counselling)': 'Psicoterapia'\n",
    "}\n",
    "\n",
    "mapping_udf = udf(lambda x: map_category(x, category_mapping), StringType())"
   ]
  },
  {
   "cell_type": "markdown",
   "metadata": {},
   "source": [
    "## Caricamento "
   ]
  },
  {
   "cell_type": "code",
   "execution_count": 7,
   "metadata": {},
   "outputs": [
    {
     "name": "stdout",
     "output_type": "stream",
     "text": [
      "../dica33_doctors/data loaded\n",
      "root\n",
      " |-- URL: string (nullable = true)\n",
      " |-- name: string (nullable = true)\n",
      " |-- specialization: string (nullable = true)\n",
      " |-- n_replies: integer (nullable = true)\n",
      " |-- picture: string (nullable = true)\n",
      "\n",
      "+--------------------+--------------------+--------------+---------+--------------------+\n",
      "|                 URL|                name|specialization|n_replies|             picture|\n",
      "+--------------------+--------------------+--------------+---------+--------------------+\n",
      "|https://www.dica3...|Dott. ALESSANDRO ...|          null|       83|/9j/4AAQSkZJRgABA...|\n",
      "|https://www.dica3...|Dott. MICHELE AMENTA|          null|        1|/9j/4AAQSkZJRgABA...|\n",
      "|https://www.dica3...|Dott. DOMENICO AN...|          null|        2|/9j/4AAQSkZJRgABA...|\n",
      "|https://www.dica3...| Dott. FRANCO ASTORE|          null|        2|/9j/4AAQSkZJRgABA...|\n",
      "|https://www.dica3...|Prof. GIOVANNI EN...|          null|        2|/9j/4AAQSkZJRgABA...|\n",
      "|https://www.dica3...|Dott. FRANCESCO A...|          null|        1|/9j/4AAQSkZJRgABA...|\n",
      "|https://www.dica3...|Dott. ANTONIO ALOISI|          null|        1|/9j/4AAQSkZJRgABA...|\n",
      "|https://www.dica3...|Dott. AURELIO ATZERI|          null|        2|/9j/4AAQSkZJRgABA...|\n",
      "|https://www.dica3...|Dott. MARIO ANDREONE|          null|        1|/9j/4AAQSkZJRgABA...|\n",
      "|https://www.dica3...|Dott.ssa STEFANIA...|          null|        1|/9j/4AAQSkZJRgABA...|\n",
      "|https://www.dica3...|Dott.ssa KATHRIN ...|          null|        4|/9j/4AAQSkZJRgABA...|\n",
      "|https://www.dica3...|Dott.ssa GRACE PA...|          null|        1|/9j/4AAQSkZJRgABA...|\n",
      "|https://www.dica3...|Dott.ssa LAURA AU...|          null|        2|/9j/4AAQSkZJRgABA...|\n",
      "|https://www.dica3...|Dott. GIANCARLO A...|          null|        1|/9j/4AAQSkZJRgABA...|\n",
      "|https://www.dica3...|Dott. OSCAR ANTON...|          null|        9|/9j/4AAQSkZJRgABA...|\n",
      "|https://www.dica3...|Dott. GIUSEPPE AR...|          null|        2|/9j/4AAQSkZJRgABA...|\n",
      "|https://www.dica3...|Dott. VINCENZO AL...|          null|        7|/9j/4AAQSkZJRgABA...|\n",
      "|https://www.dica3...|Dott. FRANCESCO A...|          null|        1|/9j/4AAQSkZJRgABA...|\n",
      "|https://www.dica3...|  Dott. ALBERTO ANAV|          null|        2|/9j/4AAQSkZJRgABA...|\n",
      "|https://www.dica3...|Dott. FRANCESCO B...|          null|       79|/9j/4AAQSkZJRgABA...|\n",
      "+--------------------+--------------------+--------------+---------+--------------------+\n",
      "only showing top 20 rows\n",
      "\n"
     ]
    }
   ],
   "source": [
    "dica33_doctors_df = load_dataframe(spark, '../dica33_doctors/data')\n",
    "dica33_doctors_df.select('*').where(col('specialization').isNull()).show()"
   ]
  },
  {
   "cell_type": "code",
   "execution_count": 10,
   "metadata": {},
   "outputs": [
    {
     "name": "stdout",
     "output_type": "stream",
     "text": [
      "../dica33_doctors/data loaded\n",
      "root\n",
      " |-- URL: string (nullable = true)\n",
      " |-- name: string (nullable = true)\n",
      " |-- specialization: string (nullable = true)\n",
      " |-- n_replies: integer (nullable = true)\n",
      " |-- picture: string (nullable = true)\n",
      "\n"
     ]
    }
   ],
   "source": [
    "dica33_doctors_df = load_dataframe(spark, '../dica33_doctors/data')\n",
    "dica33_doctors_df = dica33_doctors_df.drop_duplicates(['URL'])\n",
    "dica33_doctors_df = dica33_doctors_df.na.drop(how='any', subset=['name', 'specialization'])\n",
    "dica33_doctors_df = dica33_doctors_df.withColumn('specialization', mapping_udf(dica33_doctors_df['specialization']))\n",
    "dica33_doctors_df = dica33_doctors_df.where(~col('specialization').contains('MISSING'))\n",
    "#replace default image with null\n",
    "default_picture = dica33_doctors_df.groupBy('picture').count().where(col('count')>1).limit(1).collect()[0]['picture']\n",
    "dica33_doctors_df = dica33_doctors_df.replace(default_picture, None, ['picture'])"
   ]
  },
  {
   "cell_type": "code",
   "execution_count": 17,
   "metadata": {},
   "outputs": [],
   "source": [
    "dica33_doctors_df.write.json('../dica33_doctors/json_dica33_doctors/doctors', mode=\"overwrite\")"
   ]
  },
  {
   "cell_type": "code",
   "execution_count": null,
   "metadata": {},
   "outputs": [],
   "source": []
  }
 ],
 "metadata": {
  "kernelspec": {
   "display_name": "spark_env",
   "language": "python",
   "name": "python3"
  },
  "language_info": {
   "codemirror_mode": {
    "name": "ipython",
    "version": 3
   },
   "file_extension": ".py",
   "mimetype": "text/x-python",
   "name": "python",
   "nbconvert_exporter": "python",
   "pygments_lexer": "ipython3",
   "version": "3.10.14"
  }
 },
 "nbformat": 4,
 "nbformat_minor": 2
}
