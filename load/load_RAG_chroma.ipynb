{
 "cells": [
  {
   "cell_type": "code",
   "execution_count": 1,
   "metadata": {},
   "outputs": [],
   "source": [
    "import chromadb\n",
    "from chromadb.config import DEFAULT_TENANT, DEFAULT_DATABASE, Settings\n",
    "\n",
    "import json\n",
    "import os"
   ]
  },
  {
   "cell_type": "code",
   "execution_count": 2,
   "metadata": {},
   "outputs": [
    {
     "data": {
      "text/plain": [
       "[Collection(id=0ce64dbf-4e8c-455f-9258-962ba24af963, name=humanitas),\n",
       " Collection(id=8c2cce43-53ab-4e53-bf53-a121ec819cdf, name=doctors),\n",
       " Collection(id=d8c34c60-7ab5-4df5-9b79-b3a92713ccd8, name=RAG)]"
      ]
     },
     "execution_count": 2,
     "metadata": {},
     "output_type": "execute_result"
    }
   ],
   "source": [
    "chroma_client = chromadb.HttpClient(\n",
    "    host=\"localhost\",\n",
    "    port=8000,\n",
    "    ssl=False,\n",
    "    headers=None,\n",
    "    settings=Settings(),\n",
    "    tenant=DEFAULT_TENANT,\n",
    "    database=DEFAULT_DATABASE,\n",
    ")\n",
    "\n",
    "#chroma_client.delete_collection('humanitas')\n",
    "chroma_client.list_collections()"
   ]
  },
  {
   "cell_type": "code",
   "execution_count": 3,
   "metadata": {},
   "outputs": [
    {
     "name": "stdout",
     "output_type": "stream",
     "text": [
      "385568\n",
      "9200\n"
     ]
    }
   ],
   "source": [
    "collection_RAG = chroma_client.get_collection(\"RAG\")\n",
    "collection_humanitas = chroma_client.get_collection(\"humanitas\")\n",
    "\n",
    "print(collection_RAG.count())\n",
    "print(collection_humanitas.count())"
   ]
  },
  {
   "cell_type": "code",
   "execution_count": 4,
   "metadata": {},
   "outputs": [],
   "source": [
    "def load_json(data, collection):\n",
    "    ids = []\n",
    "    embeddings = []\n",
    "    metadatas=[]\n",
    "\n",
    "    count = collection.count()\n",
    "    for doc in data:\n",
    "        metadatas.append({'URL': doc['URL'],\n",
    "                        'Category': doc['Category'],\n",
    "                        'Chunk Number': doc['Chunk_number'],\n",
    "                        'Question': doc['Question'],\n",
    "                        'Answer': doc['Answer']})\n",
    "        embeddings.append(doc['embedding'])\n",
    "        id = str(doc['Chunk_number']) + '_' + doc['URL']\n",
    "        ids.append(id)\n",
    "\n",
    "    for k in range(0, len(data)):\n",
    "        collection.add(ids=ids[k] , metadatas=metadatas[k], embeddings=embeddings[k])\n",
    "        \n",
    "    return collection.count() - count"
   ]
  },
  {
   "cell_type": "code",
   "execution_count": 5,
   "metadata": {},
   "outputs": [],
   "source": [
    "def insert_json(path, collection):\n",
    "    data = []\n",
    "    \n",
    "    with open(path, 'r') as f:\n",
    "        for line in f:\n",
    "            json_object = json.loads(line)\n",
    "            data.append(json_object)\n",
    "\n",
    "        loaded = load_json(data, collection)\n",
    "    print(f'total objects:{len(data)}, loaded: {loaded}')\n",
    "\n",
    "\n",
    "def insert_json_dir(path, collection):\n",
    "    if not path.endswith('/'):\n",
    "        path += '/'\n",
    "    for file in os.listdir(path):\n",
    "        insert_json(path+file, collection)"
   ]
  },
  {
   "cell_type": "code",
   "execution_count": 6,
   "metadata": {},
   "outputs": [
    {
     "name": "stdout",
     "output_type": "stream",
     "text": [
      "total objects:4969, loaded: 4969\n",
      "total objects:5025, loaded: 5025\n",
      "total objects:5259, loaded: 5259\n",
      "total objects:5271, loaded: 5271\n",
      "total objects:5129, loaded: 5129\n",
      "total objects:5134, loaded: 5134\n",
      "total objects:5196, loaded: 5196\n",
      "total objects:5166, loaded: 5166\n",
      "total objects:5056, loaded: 5056\n",
      "total objects:5073, loaded: 5073\n",
      "total objects:5224, loaded: 5224\n",
      "total objects:5139, loaded: 5139\n",
      "total objects:1881, loaded: 1881\n"
     ]
    }
   ],
   "source": [
    "path = './dica33/e5_rag_embeddings'\n",
    "insert_json_dir(path, collection_RAG)"
   ]
  },
  {
   "cell_type": "code",
   "execution_count": 7,
   "metadata": {},
   "outputs": [
    {
     "name": "stdout",
     "output_type": "stream",
     "text": [
      "total objects:25680, loaded: 25680\n",
      "total objects:25880, loaded: 25880\n",
      "total objects:25873, loaded: 25873\n",
      "total objects:26028, loaded: 26028\n",
      "total objects:25713, loaded: 25713\n",
      "total objects:25926, loaded: 25926\n",
      "total objects:25592, loaded: 25592\n",
      "total objects:25414, loaded: 25414\n",
      "total objects:25789, loaded: 25789\n",
      "total objects:25848, loaded: 25848\n",
      "total objects:25601, loaded: 25601\n",
      "total objects:25791, loaded: 25791\n",
      "total objects:12911, loaded: 12911\n"
     ]
    }
   ],
   "source": [
    "path = './medicitalia/e5_rag_embeddings'\n",
    "insert_json_dir(path, collection_RAG)"
   ]
  }
 ],
 "metadata": {
  "kernelspec": {
   "display_name": "medical_app",
   "language": "python",
   "name": "python3"
  },
  "language_info": {
   "codemirror_mode": {
    "name": "ipython",
    "version": 3
   },
   "file_extension": ".py",
   "mimetype": "text/x-python",
   "name": "python",
   "nbconvert_exporter": "python",
   "pygments_lexer": "ipython3",
   "version": "3.9.10"
  }
 },
 "nbformat": 4,
 "nbformat_minor": 2
}
