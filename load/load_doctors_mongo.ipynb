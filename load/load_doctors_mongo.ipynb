{
 "cells": [
  {
   "cell_type": "code",
   "execution_count": 1,
   "metadata": {},
   "outputs": [],
   "source": [
    "import json\n",
    "from pymongo.mongo_client import MongoClient\n",
    "from pymongo import UpdateOne\n",
    "import os"
   ]
  },
  {
   "cell_type": "code",
   "execution_count": 2,
   "metadata": {},
   "outputs": [],
   "source": [
    "def clear_collection(uri, db, collection_name):\n",
    "    client = MongoClient(uri)\n",
    "    try:\n",
    "        client.admin.command('ping')\n",
    "        print(\"Pinged your deployment. You successfully connected to MongoDB!\")\n",
    "    except Exception as e:\n",
    "        print('Exception', e)\n",
    "\n",
    "    db = client[db]\n",
    "    collection = db[collection_name]\n",
    "    \n",
    "    return db.drop_collection(collection)['ok']"
   ]
  },
  {
   "cell_type": "code",
   "execution_count": 3,
   "metadata": {},
   "outputs": [],
   "source": [
    "def load_json(collection, documents):\n",
    "\n",
    "    bulk_operations = []\n",
    "    for document in documents:\n",
    "        custom_id = document['URL']             # 'URL' field as custom ID\n",
    "        del document['URL']\n",
    "    \n",
    "        bulk_operations.append(\n",
    "            UpdateOne(\n",
    "                {'_id': custom_id},  \n",
    "                {'$set': document},  \n",
    "                upsert=True                     # update in case of duplicate to avoid duplicate key exception\n",
    "            )\n",
    "        )\n",
    "\n",
    "    if bulk_operations:\n",
    "        result = collection.bulk_write(bulk_operations)\n",
    "        print(f\"Bulk write completed. Matched: {result.matched_count}, Upserted: {result.upserted_count}\")\n",
    "\n",
    "    return collection.count_documents({})\n",
    "\n",
    "\n",
    "def load_locations(collection, documents):\n",
    "\n",
    "    bulk_operations = []\n",
    "    for document in documents:\n",
    "        custom_id = document['Doctor profile']      # 'URL' field as ID\n",
    "        del document['Doctor profile']\n",
    "    \n",
    "        bulk_operations.append(\n",
    "            UpdateOne(\n",
    "                {'_id': custom_id},  \n",
    "                {'$set': document},  \n",
    "                upsert=True                         # add location if doctor exists, insert new doctor if it doesn't exist yet\n",
    "            )\n",
    "        )\n",
    "\n",
    "    if bulk_operations:\n",
    "        result = collection.bulk_write(bulk_operations)\n",
    "        print(f\"Bulk write completed. Matched: {result.matched_count}, Upserted: {result.upserted_count}\")\n",
    "\n",
    "    return collection.count_documents({})\n",
    "\n",
    "\n",
    "\n",
    "def insert_json(path, collection):\n",
    "    documents = []\n",
    "    with open(path, 'r') as f:\n",
    "        for line in f:\n",
    "            json_object = json.loads(line)\n",
    "            documents.append(json_object)\n",
    "\n",
    "    print(load_json(collection, documents))\n",
    "\n",
    "\n",
    "def insert_locations(path, collection):\n",
    "    documents = []\n",
    "    with open(path, 'r') as f:\n",
    "        for line in f:\n",
    "            json_object = json.loads(line)\n",
    "            documents.append(json_object)\n",
    "\n",
    "    print(load_locations(collection, documents))\n",
    "\n",
    "\n",
    "def insert_json_dir(path, collection):\n",
    "    for file in os.listdir(path):\n",
    "        insert_json(path+'/'+file, collection)\n",
    "\n",
    "\n",
    "def get_doctors_collection(client):\n",
    "    db_name = 'medical_app'\n",
    "    collection_name = 'doctors'\n",
    "    db = client[db_name]\n",
    "    collection = db[collection_name]\n",
    "    return collection"
   ]
  },
  {
   "cell_type": "code",
   "execution_count": 8,
   "metadata": {},
   "outputs": [
    {
     "name": "stdout",
     "output_type": "stream",
     "text": [
      "Bulk write completed. Matched: 1331, Upserted: 153\n",
      "11614\n"
     ]
    }
   ],
   "source": [
    "uri = \"mongodb://127.0.0.1:27017/?directConnection=true&serverSelectionTimeoutMS=2000&appName=mongosh+2.2.6\"\n",
    "#print(clear_collection(uri, 'medical_app', 'doctors'))\n",
    "\n",
    "#path = './dica33/json/doctors'\n",
    "path = './medicitalia/json/doctors'\n",
    "\n",
    "\n",
    "client = MongoClient(uri)\n",
    "try:\n",
    "    client.admin.command('ping')\n",
    "except Exception as e:\n",
    "    print(e)\n",
    "\n",
    "\n",
    "collection = get_doctors_collection(client)\n",
    "insert_json_dir(path, collection)\n",
    "locations_file = './dica33/json/doctors_location/part-00000-1044e462-5c75-4c5d-a322-29e2bfc6599f-c000.json'\n",
    "insert_locations(locations_file, collection)\n"
   ]
  }
 ],
 "metadata": {
  "kernelspec": {
   "display_name": "Python 3",
   "language": "python",
   "name": "python3"
  },
  "language_info": {
   "codemirror_mode": {
    "name": "ipython",
    "version": 3
   },
   "file_extension": ".py",
   "mimetype": "text/x-python",
   "name": "python",
   "nbconvert_exporter": "python",
   "pygments_lexer": "ipython3",
   "version": "3.10.14"
  }
 },
 "nbformat": 4,
 "nbformat_minor": 2
}
