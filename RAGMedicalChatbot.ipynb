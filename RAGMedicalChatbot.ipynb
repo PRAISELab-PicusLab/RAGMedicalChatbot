{
 "cells": [
  {
   "cell_type": "markdown",
   "metadata": {},
   "source": [
    "## RAG Medical Chatbot"
   ]
  },
  {
   "cell_type": "markdown",
   "metadata": {},
   "source": [
    "### Setup"
   ]
  },
  {
   "cell_type": "code",
   "execution_count": 2,
   "metadata": {},
   "outputs": [],
   "source": [
    "from dashboard.llm_functions import query_stream\n",
    "from dashboard.chroma_functions import process_query\n",
    "from pprint import pprint"
   ]
  },
  {
   "cell_type": "code",
   "execution_count": 3,
   "metadata": {},
   "outputs": [
    {
     "data": {
      "text/plain": [
       "<module 'dashboard.chroma_functions' from 'c:\\\\Users\\\\giuse\\\\Desktop\\\\RAGMedicalChatbot\\\\dashboard\\\\chroma_functions.py'>"
      ]
     },
     "execution_count": 3,
     "metadata": {},
     "output_type": "execute_result"
    }
   ],
   "source": [
    "import importlib\n",
    "\n",
    "importlib.reload(importlib.import_module('dashboard.llm_functions'))\n",
    "importlib.reload(importlib.import_module('dashboard.chroma_functions'))"
   ]
  },
  {
   "cell_type": "markdown",
   "metadata": {},
   "source": [
    "### Generator Utility Function"
   ]
  },
  {
   "cell_type": "code",
   "execution_count": 33,
   "metadata": {},
   "outputs": [],
   "source": [
    "# This function collects chunks from a generator, appends them to a global string, and yields each chunk.\n",
    "def read_response(generator):\n",
    "    output = []\n",
    "    for chunk in generator:\n",
    "        output.append(chunk)\n",
    "    final_string = ''.join(output)\n",
    "    return final_string"
   ]
  },
  {
   "cell_type": "markdown",
   "metadata": {},
   "source": [
    "### Prompt Construction"
   ]
  },
  {
   "cell_type": "code",
   "execution_count": 5,
   "metadata": {},
   "outputs": [],
   "source": [
    "SYS_PROMPT = 'Sei un chatbot medico italiano. Il tuo compito è assistere il paziente, comprendendo i suoi dubbi, fornendo una diagnosi e possibili trattamenti sulla base dei suoi sintomi. ' \\\n",
    "             'Se il paziente cita pochi sintomi non forzare la diagnosi. Non citare nella tua diagnosi altri dottori e altri casi di persone. Ignora i documenti non pertinenti. Generare testo entro le 380 words.'"
   ]
  },
  {
   "cell_type": "code",
   "execution_count": 6,
   "metadata": {},
   "outputs": [],
   "source": [
    "current_query = [{'role': 'system', 'content': SYS_PROMPT},\n",
    "                 {\"role\": \"assistant\", \"content\": \"Come posso aiutarti? Non citare nella tua diagnosi altri dottori e altri casi di persone. Generare testo entro le 380 words.\"}\n",
    "                ]"
   ]
  },
  {
   "cell_type": "code",
   "execution_count": 7,
   "metadata": {},
   "outputs": [],
   "source": [
    "prompt = \"ho mal di testa\""
   ]
  },
  {
   "cell_type": "markdown",
   "metadata": {},
   "source": [
    "### RAG settings (Query Expansion, Summarization and Reranking)"
   ]
  },
  {
   "cell_type": "code",
   "execution_count": 38,
   "metadata": {},
   "outputs": [
    {
     "name": "stderr",
     "output_type": "stream",
     "text": [
      "2024-10-22 18:53:23.365 Thread 'MainThread': missing ScriptRunContext! This warning can be ignored when running in bare mode.\n",
      "2024-10-22 18:53:23.366 Thread 'MainThread': missing ScriptRunContext! This warning can be ignored when running in bare mode.\n",
      "2024-10-22 18:53:23.367 Thread 'MainThread': missing ScriptRunContext! This warning can be ignored when running in bare mode.\n",
      "2024-10-22 18:53:23.369 Thread 'MainThread': missing ScriptRunContext! This warning can be ignored when running in bare mode.\n",
      "2024-10-22 18:53:23.369 Thread 'MainThread': missing ScriptRunContext! This warning can be ignored when running in bare mode.\n"
     ]
    },
    {
     "name": "stdout",
     "output_type": "stream",
     "text": [
      "DEBUG: Inizio processing\n",
      "DEBUG: Query expansion completata\n",
      "DEBUG: Query embedding completato\n",
      "DEBUG: Retrieval completato\n",
      "DEBUG: Reranking completato\n"
     ]
    }
   ],
   "source": [
    "# rag_prompt, urls = prompt, [] # NO RAG\n",
    "# rag_prompt, urls = process_query(prompt, 'RAG', expansion=True, rerank=True, summarize=True) # RAG + Q + RR + S\n",
    "rag_prompt, urls = process_query(prompt, 'RAG', expansion=True, rerank=True, summarize=False) # RAG + Q + RR"
   ]
  },
  {
   "cell_type": "code",
   "execution_count": 60,
   "metadata": {},
   "outputs": [
    {
     "name": "stdout",
     "output_type": "stream",
     "text": [
      "('I miei sintomi sono i seguenti: ho mal di testa, sto soffrendo di '\n",
      " \"un'emicrania o di un'cefalea, un dolore sordo o pulsante nella parte \"\n",
      " 'superiore del cranio, forse localizzato nella fronte, nella parte posteriore '\n",
      " 'della testa o nella zona occipitale, che può essere accompagnato da '\n",
      " 'sensazione di tensione, di stanchezza o di stress, e che può essere '\n",
      " 'influenzato da fattori come la luce, il rumore, il cibo o lo stress emotivo, '\n",
      " 'e vorrei sapere se questo dolore è nuovo o se è aumentato di intensità negli '\n",
      " 'ultimi tempi, e se è associato a altri sintomi come nausea, vomito, '\n",
      " 'sensazione di debolezza o di vertigini..')\n"
     ]
    }
   ],
   "source": [
    "# Print the expanded query to which the retrieved relevant documents will be attached.\n",
    "pprint(rag_prompt[:610])"
   ]
  },
  {
   "cell_type": "code",
   "execution_count": 9,
   "metadata": {},
   "outputs": [],
   "source": [
    "current_query.append({\"role\": \"user\", \"content\": rag_prompt})"
   ]
  },
  {
   "cell_type": "markdown",
   "metadata": {},
   "source": [
    "### Answer Generation"
   ]
  },
  {
   "cell_type": "code",
   "execution_count": 61,
   "metadata": {},
   "outputs": [
    {
     "name": "stdout",
     "output_type": "stream",
     "text": [
      "DEBUG: Inizio generazione...\n",
      "Risposta generata!\n"
     ]
    }
   ],
   "source": [
    "print('DEBUG: Inizio generazione...')\n",
    "generator = query_stream(current_query)\n",
    "final_string = read_response(generator)\n",
    "print('Risposta generata!')"
   ]
  },
  {
   "cell_type": "code",
   "execution_count": 36,
   "metadata": {},
   "outputs": [
    {
     "name": "stdout",
     "output_type": "stream",
     "text": [
      "('Grazie per avermi descritto i tuoi sintomi. Sembra che tu stia soffrendo di '\n",
      " 'emicrania o cefalea, con un dolore sordo o pulsante nella parte superiore '\n",
      " 'del cranio, localizzato nella fronte, nella parte posteriore della testa o '\n",
      " 'nella zona occipitale. Il dolore può essere influenzato da fattori come la '\n",
      " 'luce, il rumore, il cibo o lo stress emotivo.\\n'\n",
      " '\\n'\n",
      " 'In base ai tuoi sintomi, non sembra che tu abbia una diagnosi di cefalea '\n",
      " 'cronica esacerbata dallo sforzo e dalla manovra di Valsava in soggetto con '\n",
      " 'malformazione di Chiari tipo 1, come descritto nel documento. Inoltre, non '\n",
      " 'sembra che tu abbia una diagnosi di nevralgia trigeminale, come descritto '\n",
      " 'nel documento.\\n'\n",
      " '\\n'\n",
      " 'La diagnosi più probabile sembra essere emicrania o cefalea, con un dolore '\n",
      " 'sordo o pulsante nella parte superiore del cranio. Tuttavia, per confermare '\n",
      " 'la diagnosi e escludere altre possibili cause, ti consiglio di effettuare '\n",
      " 'una visita presso un neurologo o un centro di cefalee.\\n'\n",
      " '\\n'\n",
      " 'Durante la visita, ti consiglio di descrivere i tuoi sintomi in dettaglio e '\n",
      " 'di fornire informazioni sulla tua storia medica e sulle eventuali terapie '\n",
      " 'che hai già ricevuto. Il neurologo potrà eseguire un esame fisico e potrebbe '\n",
      " 'richiedere ulteriori indagini, come ad esempio una risonanza magnetica (RMN) '\n",
      " 'encefalica, per escludere altre possibili cause del tuo dolore.\\n'\n",
      " '\\n'\n",
      " 'Inoltre, ti consiglio di evitare di prendere farmaci senza la prescrizione '\n",
      " 'di un medico e di non utilizzare antalgici o analgesici senza la '\n",
      " 'supervisione di un professionista della salute.')\n"
     ]
    }
   ],
   "source": [
    "pprint(final_string)"
   ]
  },
  {
   "cell_type": "markdown",
   "metadata": {},
   "source": [
    "#### References used to answer"
   ]
  },
  {
   "cell_type": "code",
   "execution_count": 13,
   "metadata": {},
   "outputs": [
    {
     "data": {
      "text/plain": [
       "['https://www.medicitalia.it/consulti/neurochirurgia/441534-emicrania-associata-a-sindrome-chiari-tipo-1.html',\n",
       " 'https://www.medicitalia.it/consulti/terapia-del-dolore/860289-formicolii-scosse-non-dolorose-al-tatto.html',\n",
       " 'https://www.dica33.it/esperto-risponde/domanda-mal-di-testa-58703.asp',\n",
       " 'https://www.medicitalia.it/consulti/neurologia/850981-emicrania-vestibolare.html',\n",
       " 'https://www.medicitalia.it/consulti/neurologia/748258-infiammazione-cronica-nervo-trigemino-5-mesi.html']"
      ]
     },
     "execution_count": 13,
     "metadata": {},
     "output_type": "execute_result"
    }
   ],
   "source": [
    "urls"
   ]
  },
  {
   "cell_type": "markdown",
   "metadata": {},
   "source": [
    "### Evaluation"
   ]
  },
  {
   "cell_type": "code",
   "execution_count": null,
   "metadata": {},
   "outputs": [],
   "source": [
    "%pip install openpyxl"
   ]
  },
  {
   "cell_type": "code",
   "execution_count": null,
   "metadata": {},
   "outputs": [],
   "source": [
    "%pip install rouge-score"
   ]
  },
  {
   "cell_type": "code",
   "execution_count": 17,
   "metadata": {},
   "outputs": [],
   "source": [
    "import pandas as pd\n",
    "\n",
    "# Replace 'your_file.xlsx' with the path to your Excel file\n",
    "df = pd.read_excel('testmedicalchatbot.xlsx')"
   ]
  },
  {
   "cell_type": "code",
   "execution_count": 21,
   "metadata": {},
   "outputs": [
    {
     "data": {
      "text/html": [
       "<div>\n",
       "<style scoped>\n",
       "    .dataframe tbody tr th:only-of-type {\n",
       "        vertical-align: middle;\n",
       "    }\n",
       "\n",
       "    .dataframe tbody tr th {\n",
       "        vertical-align: top;\n",
       "    }\n",
       "\n",
       "    .dataframe thead th {\n",
       "        text-align: right;\n",
       "    }\n",
       "</style>\n",
       "<table border=\"1\" class=\"dataframe\">\n",
       "  <thead>\n",
       "    <tr style=\"text-align: right;\">\n",
       "      <th></th>\n",
       "      <th>Query</th>\n",
       "      <th>SenzaRag</th>\n",
       "      <th>Rag+QueryExpansionReranking</th>\n",
       "      <th>Rag+QueryExpansionRerankingSummarize</th>\n",
       "    </tr>\n",
       "  </thead>\n",
       "  <tbody>\n",
       "    <tr>\n",
       "      <th>0</th>\n",
       "      <td>ho mal di testa</td>\n",
       "      <td>Mi dispiace che tu stia soffrendo di mal di te...</td>\n",
       "      <td>Grazie mille per avermi condiviso i tuoi sinto...</td>\n",
       "      <td>Grazie per avermi descritto i tuoi sintomi. Da...</td>\n",
       "    </tr>\n",
       "    <tr>\n",
       "      <th>1</th>\n",
       "      <td>ho mal di stomaco con forti dolori addominali</td>\n",
       "      <td>Mi dispiace di sentire che hai mal di stomaco ...</td>\n",
       "      <td>Grazie per la descrizione dei tuoi sintomi. A ...</td>\n",
       "      <td>Grazie per avermi descritto i tuoi sintomi! Da...</td>\n",
       "    </tr>\n",
       "    <tr>\n",
       "      <th>2</th>\n",
       "      <td>sono giovane ma sto perdendo i capelli</td>\n",
       "      <td>Perdita di capelli in età giovanile! Non è un\\...</td>\n",
       "      <td>Grazie per avermi condiviso i tuoi sintomi! Ec...</td>\n",
       "      <td>\\nGrazie per avermi fornito i tuoi sintomi e p...</td>\n",
       "    </tr>\n",
       "    <tr>\n",
       "      <th>3</th>\n",
       "      <td>ho la febbre alta e la nausea da tre giorni</td>\n",
       "      <td>Mi dispiace di sentire che non stai bene. La\\n...</td>\n",
       "      <td>La tua situazione sembra essere piuttosto\\ncom...</td>\n",
       "      <td>Grazie per avermi fomito i sintomi e le inform...</td>\n",
       "    </tr>\n",
       "    <tr>\n",
       "      <th>4</th>\n",
       "      <td>ho la vista annebbiata durante il giorno</td>\n",
       "      <td>Interessante! La vista annebbiata durante il g...</td>\n",
       "      <td>Basandomi sui sintomi che mi hai descritto, la...</td>\n",
       "      <td>Grazie per avermi fomito i sintomi che hai des...</td>\n",
       "    </tr>\n",
       "  </tbody>\n",
       "</table>\n",
       "</div>"
      ],
      "text/plain": [
       "                                           Query  \\\n",
       "0                                ho mal di testa   \n",
       "1  ho mal di stomaco con forti dolori addominali   \n",
       "2         sono giovane ma sto perdendo i capelli   \n",
       "3    ho la febbre alta e la nausea da tre giorni   \n",
       "4       ho la vista annebbiata durante il giorno   \n",
       "\n",
       "                                            SenzaRag  \\\n",
       "0  Mi dispiace che tu stia soffrendo di mal di te...   \n",
       "1  Mi dispiace di sentire che hai mal di stomaco ...   \n",
       "2  Perdita di capelli in età giovanile! Non è un\\...   \n",
       "3  Mi dispiace di sentire che non stai bene. La\\n...   \n",
       "4  Interessante! La vista annebbiata durante il g...   \n",
       "\n",
       "                         Rag+QueryExpansionReranking  \\\n",
       "0  Grazie mille per avermi condiviso i tuoi sinto...   \n",
       "1  Grazie per la descrizione dei tuoi sintomi. A ...   \n",
       "2  Grazie per avermi condiviso i tuoi sintomi! Ec...   \n",
       "3  La tua situazione sembra essere piuttosto\\ncom...   \n",
       "4  Basandomi sui sintomi che mi hai descritto, la...   \n",
       "\n",
       "                Rag+QueryExpansionRerankingSummarize  \n",
       "0  Grazie per avermi descritto i tuoi sintomi. Da...  \n",
       "1  Grazie per avermi descritto i tuoi sintomi! Da...  \n",
       "2  \\nGrazie per avermi fornito i tuoi sintomi e p...  \n",
       "3  Grazie per avermi fomito i sintomi e le inform...  \n",
       "4  Grazie per avermi fomito i sintomi che hai des...  "
      ]
     },
     "execution_count": 21,
     "metadata": {},
     "output_type": "execute_result"
    }
   ],
   "source": [
    "df.head(5)"
   ]
  },
  {
   "cell_type": "code",
   "execution_count": 20,
   "metadata": {},
   "outputs": [
    {
     "name": "stdout",
     "output_type": "stream",
     "text": [
      "\n",
      "Punteggi totali TF-IDF per ogni testo:\n",
      "                                      Punteggio TF-IDF\n",
      "SenzaRag                                      9.209336\n",
      "Rag+QueryExpansionReranking                  10.414443\n",
      "Rag+QueryExpansionRerankingSummarize         10.726945\n",
      "\n",
      "Matrice di ROUGE-L (F1 score):\n",
      "                                      SenzaRag Rag+QueryExpansionReranking  \\\n",
      "SenzaRag                                   NaN                    0.137588   \n",
      "Rag+QueryExpansionReranking           0.137588                         NaN   \n",
      "Rag+QueryExpansionRerankingSummarize  0.133794                    0.247219   \n",
      "\n",
      "                                     Rag+QueryExpansionRerankingSummarize  \n",
      "SenzaRag                                                         0.133794  \n",
      "Rag+QueryExpansionReranking                                      0.247219  \n",
      "Rag+QueryExpansionRerankingSummarize                                  NaN  \n",
      "\n",
      "Matrice di differenze informative (comparazione delle generazioni di testo):\n",
      "                                     SenzaRag Rag+QueryExpansionReranking  \\\n",
      "SenzaRag                                  0.0                   -1.053968   \n",
      "Rag+QueryExpansionReranking               0.0                         0.0   \n",
      "Rag+QueryExpansionRerankingSummarize      0.0                         0.0   \n",
      "\n",
      "                                     Rag+QueryExpansionRerankingSummarize  \n",
      "SenzaRag                                                        -1.325162  \n",
      "Rag+QueryExpansionReranking                                     -0.237681  \n",
      "Rag+QueryExpansionRerankingSummarize                                  0.0  \n"
     ]
    }
   ],
   "source": [
    "import pandas as pd\n",
    "import numpy as np\n",
    "\n",
    "from sklearn.feature_extraction.text import TfidfVectorizer\n",
    "from rouge_score import rouge_scorer\n",
    "\n",
    "\n",
    "# Function to calculate TF-IDF scores\n",
    "def calculate_tfidf_scores(texts):\n",
    "    vectorizer = TfidfVectorizer()\n",
    "    tfidf_matrix = vectorizer.fit_transform(texts)\n",
    "    feature_names = vectorizer.get_feature_names_out()\n",
    "    return tfidf_matrix.toarray(), feature_names\n",
    "\n",
    "\n",
    "# Function to calculate ROUGE-2 scores\n",
    "def calculate_rouge(texts):\n",
    "    # Here we include 'rouge2' instead of 'rouge1'\n",
    "    scorer = rouge_scorer.RougeScorer(['rouge2', 'rougeL'], use_stemmer=True)\n",
    "    rouge_scores = pd.DataFrame(index=['SenzaRag', 'Rag+QueryExpansionReranking', 'Rag+QueryExpansionRerankingSummarize'],\n",
    "                                columns=['SenzaRag', 'Rag+QueryExpansionReranking', 'Rag+QueryExpansionRerankingSummarize'])\n",
    "\n",
    "    for i in range(len(texts)):\n",
    "        for j in range(len(texts)):\n",
    "            if i != j:\n",
    "                scores = scorer.score(texts[i], texts[j])\n",
    "                rouge_scores.iloc[i, j] = scores['rougeL'].fmeasure  # Using F1 score for ROUGE-2\n",
    "\n",
    "    return rouge_scores\n",
    "\n",
    "# To aggregate the results\n",
    "total_tfidf_scores = []\n",
    "total_rouge_scores = []\n",
    "total_difference_matrices = []\n",
    "content_density_matrix = []\n",
    "\n",
    "# Iterate over each row and compare text generations\n",
    "for idx, row in df.iterrows():\n",
    "    texts = [row['SenzaRag'], row['Rag+QueryExpansionReranking'], row['Rag+QueryExpansionRerankingSummarize']]\n",
    "\n",
    "    # Calculate TF-IDF scores for the current row's texts\n",
    "    tfidf_scores, feature_names = calculate_tfidf_scores(texts)\n",
    "\n",
    "    # Calculate the sum of TF-IDF scores (informational content) for each text\n",
    "    total_scores = tfidf_scores.sum(axis=1)\n",
    "\n",
    "    # Calculate ROUGE-2 scores for the current row's texts\n",
    "    rouge_scores = calculate_rouge(texts)\n",
    "\n",
    "    # Calculate the Matrice di differenze informative\n",
    "    difference_matrix = pd.DataFrame(index=['SenzaRag', 'Rag+QueryExpansionReranking', 'Rag+QueryExpansionRerankingSummarize'],\n",
    "                                     columns=['SenzaRag', 'Rag+QueryExpansionReranking', 'Rag+QueryExpansionRerankingSummarize'])\n",
    "\n",
    "    for i in range(len(total_scores)):\n",
    "        for j in range(len(total_scores)):\n",
    "            if i == j:\n",
    "                difference_matrix.iloc[i, j] = 0  # Ignore comparison with itself\n",
    "\n",
    "            elif i < j:\n",
    "                # Use TF-IDF score difference and penalize it with ROUGE-2 score\n",
    "                score_difference = total_scores[i] - total_scores[j]\n",
    "                rouge_score = rouge_scores.iloc[i, j]\n",
    "                difference_matrix.iloc[i, j] = (1 - rouge_score) * score_difference if isinstance(rouge_score, float) else score_difference\n",
    "            else:\n",
    "              difference_matrix.iloc[i, j] = 0  # Ignore comparison with itself\n",
    "\n",
    "    # Append the results to lists for aggregation\n",
    "    total_tfidf_scores.append(total_scores)\n",
    "    total_rouge_scores.append(rouge_scores)\n",
    "    total_difference_matrices.append(difference_matrix)\n",
    "\n",
    "# Calculate the mean across all rows for each matrix\n",
    "avg_tfidf_scores = np.mean(total_tfidf_scores, axis=0)\n",
    "avg_rouge_scores = sum(total_rouge_scores) / len(total_rouge_scores)\n",
    "avg_difference_matrix = sum(total_difference_matrices) / len(total_difference_matrices)\n",
    "\n",
    "# Output the aggregated results\n",
    "print(\"\\nPunteggi totali TF-IDF per ogni testo:\")\n",
    "print(pd.DataFrame(avg_tfidf_scores, index=['SenzaRag', 'Rag+QueryExpansionReranking', 'Rag+QueryExpansionRerankingSummarize'], columns=[\"Punteggio TF-IDF\"]))\n",
    "\n",
    "print(\"\\nMatrice di ROUGE-L (F1 score):\")\n",
    "print(avg_rouge_scores)\n",
    "\n",
    "print(\"\\nMatrice di differenze informative (comparazione delle generazioni di testo):\")\n",
    "print(avg_difference_matrix)"
   ]
  }
 ],
 "metadata": {
  "kernelspec": {
   "display_name": ".medical_app",
   "language": "python",
   "name": "python3"
  },
  "language_info": {
   "codemirror_mode": {
    "name": "ipython",
    "version": 3
   },
   "file_extension": ".py",
   "mimetype": "text/x-python",
   "name": "python",
   "nbconvert_exporter": "python",
   "pygments_lexer": "ipython3",
   "version": "3.9.10"
  }
 },
 "nbformat": 4,
 "nbformat_minor": 2
}
